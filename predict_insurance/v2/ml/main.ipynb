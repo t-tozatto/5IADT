{
 "cells": [
  {
   "cell_type": "code",
   "execution_count": null,
   "id": "7eb3f22c",
   "metadata": {},
   "outputs": [],
   "source": [
    "import numpy as np\n",
    "import pandas as pd"
   ]
  },
  {
   "cell_type": "code",
   "execution_count": null,
   "id": "90ce2e58",
   "metadata": {},
   "outputs": [],
   "source": [
    "################## EDA\n",
    "import matplotlib.pyplot as plt\n",
    "import seaborn as sns"
   ]
  },
  {
   "cell_type": "code",
   "execution_count": null,
   "id": "e5c99edf",
   "metadata": {},
   "outputs": [],
   "source": [
    "# Configurações gerais para gráficos\n",
    "sns.set(style='whitegrid')\n",
    "plt.rcParams['figure.figsize'] = (12, 6)"
   ]
  },
  {
   "cell_type": "code",
   "execution_count": null,
   "id": "e4d9d625",
   "metadata": {},
   "outputs": [],
   "source": [
    "df = pd.read_csv('health_insurance_dataset.csv')"
   ]
  },
  {
   "cell_type": "code",
   "execution_count": null,
   "id": "6d101fd2",
   "metadata": {},
   "outputs": [],
   "source": [
    "numeric_vars = [\n",
    "    'age', 'income', 'num_dependents_kids',\n",
    "    'num_dependents_adult', 'num_dependents_older', 'charges'\n",
    "]"
   ]
  },
  {
   "cell_type": "code",
   "execution_count": null,
   "id": "e5f438ef",
   "metadata": {},
   "outputs": [],
   "source": [
    "bool_vars = [\n",
    "    'smoker'\n",
    "]"
   ]
  },
  {
   "cell_type": "code",
   "execution_count": null,
   "id": "2d680cf0",
   "metadata": {},
   "outputs": [],
   "source": [
    "categorical_vars = [\n",
    "    'sex', 'region', 'exercise_frequency', 'bmi', 'marital_status',\n",
    "    'chronic_condition', 'occupation_risk', 'diet_quality', 'education',\n",
    "    'alcohol_consumption', 'coverage_level', 'genetic_risk', 'use_last_year'\n",
    "]"
   ]
  },
  {
   "cell_type": "code",
   "execution_count": null,
   "id": "5d0cd98e",
   "metadata": {},
   "outputs": [],
   "source": [
    "target = 'charges'\n",
    "random_state = 42"
   ]
  },
  {
   "cell_type": "code",
   "execution_count": null,
   "id": "75c21d84",
   "metadata": {},
   "outputs": [],
   "source": [
    "# Visualizar as primeiras linhas\n",
    "print(df.head())"
   ]
  },
  {
   "cell_type": "code",
   "execution_count": null,
   "id": "dff24e95",
   "metadata": {},
   "outputs": [],
   "source": [
    "# Informações gerais sobre o dataset\n",
    "print(df.info())"
   ]
  },
  {
   "cell_type": "code",
   "execution_count": null,
   "id": "84d5e366",
   "metadata": {},
   "outputs": [],
   "source": [
    "# Estatísticas descritivas para variáveis numéricas\n",
    "print(df.describe())"
   ]
  },
  {
   "cell_type": "code",
   "execution_count": null,
   "id": "22c32781",
   "metadata": {},
   "outputs": [],
   "source": [
    "# Estatísticas para variáveis booleanas e categóricas\n",
    "print(df.describe(include=['object', 'bool']))"
   ]
  },
  {
   "cell_type": "code",
   "execution_count": null,
   "id": "9b38199b",
   "metadata": {},
   "outputs": [],
   "source": []
  },
  {
   "cell_type": "markdown",
   "id": "6aa9c6f9",
   "metadata": {},
   "source": [
    "### Análise das variáveis numéricas\n",
    "for col in numeric_vars:\n",
    "    fig, axes = plt.subplots(1, 2, figsize=(14, 4))\n",
    "\n",
    "    sns.histplot(df[col], kde=True, ax=axes[0], color='skyblue')\n",
    "    axes[0].set_title(f'Distribuição de {col}')\n",
    "\n",
    "    sns.boxplot(x=df[col], ax=axes[1], color='lightgreen')\n",
    "    axes[1].set_title(f'Boxplot de {col}')\n",
    "\n",
    "    plt.show()\n",
    "\n",
    "# Matriz\n",
    "corr = df[numeric_vars].corr()\n",
    "sns.heatmap(corr, annot=True, cmap='coolwarm', fmt=\".2f\")\n",
    "plt.title('Matriz de Correlação entre Variáveis Numéricas')\n",
    "plt.show()\n",
    "\n",
    "### Análise das variáveis booleanas\n",
    "for col in bool_vars:\n",
    "    counts = df[col].value_counts(normalize=True) * 100\n",
    "    print(f'\\nDistribuição de {col} (%):\\n{counts}')\n",
    "\n",
    "    sns.countplot(x=col, data=df)\n",
    "    plt.title(f'Distribuição da variável booleana {col}')\n",
    "    plt.show()\n",
    "\n",
    "### Análise das variáveis categóricas\n",
    "for col in categorical_vars:\n",
    "    print(f'\\nContagem e porcentagem para {col}:')\n",
    "    print(df[col].value_counts())\n",
    "    print(df[col].value_counts(normalize=True).mul(100).round(2).astype(str) + '%')\n",
    "\n",
    "    plt.figure(figsize=(10, 4))\n",
    "    sns.countplot(y=col, data=df, order=df[col].value_counts().index, palette='pastel')\n",
    "    plt.title(f'Distribuição da variável categórica {col}')\n",
    "    plt.show()\n",
    "\n",
    "### Variáveis vs target\n",
    "for col in numeric_vars:\n",
    "    if col != target:\n",
    "        sns.scatterplot(x=df[col], y=df[target])\n",
    "        plt.title(f'Relação entre {col} e {target}')\n",
    "        plt.show()\n",
    "\n",
    "for col in categorical_vars + bool_vars:\n",
    "    plt.figure(figsize=(10,5))\n",
    "    sns.boxplot(x=df[col], y=df[target])\n",
    "    plt.title(f'{target} por categorias de {col}')\n",
    "    plt.show()"
   ]
  },
  {
   "cell_type": "code",
   "execution_count": null,
   "id": "4fb9ec6e",
   "metadata": {},
   "outputs": [],
   "source": [
    "### Valores faltantes\n",
    "missing = df.isnull().sum()\n",
    "print('Valores faltantes por coluna:')\n",
    "print(missing[missing > 0])"
   ]
  },
  {
   "cell_type": "code",
   "execution_count": null,
   "id": "9b8424ca",
   "metadata": {
    "lines_to_next_cell": 2
   },
   "outputs": [],
   "source": [
    "# Outliers nas variáveis numéricas (usando IQR)\n",
    "for col in numeric_vars:\n",
    "    Q1 = df[col].quantile(0.25)\n",
    "    Q3 = df[col].quantile(0.75)\n",
    "    IQR = Q3 - Q1\n",
    "    outliers = df[(df[col] < Q1 - 1.5 * IQR) | (df[col] > Q3 + 1.5 * IQR)]\n",
    "    print(f'{col}: {len(outliers)} outliers detectados')"
   ]
  },
  {
   "cell_type": "code",
   "execution_count": null,
   "id": "78152d68",
   "metadata": {},
   "outputs": [],
   "source": [
    "################## Pipeline de Pré-processamento\n",
    "from sklearn.pipeline import Pipeline\n",
    "from sklearn.impute import SimpleImputer\n",
    "from sklearn.preprocessing import StandardScaler, OneHotEncoder\n",
    "from sklearn.compose import ColumnTransformer"
   ]
  },
  {
   "cell_type": "code",
   "execution_count": null,
   "id": "6086af9d",
   "metadata": {},
   "outputs": [],
   "source": [
    "if target in numeric_vars:\n",
    "    numeric_vars.remove(target)"
   ]
  },
  {
   "cell_type": "code",
   "execution_count": null,
   "id": "de3467a9",
   "metadata": {},
   "outputs": [],
   "source": [
    "# Pipeline para variáveis numéricas\n",
    "numeric_transformer = Pipeline(steps=[\n",
    "    ('imputer', SimpleImputer(strategy='median')),\n",
    "    ('scaler', StandardScaler())\n",
    "])"
   ]
  },
  {
   "cell_type": "code",
   "execution_count": null,
   "id": "b2096077",
   "metadata": {},
   "outputs": [],
   "source": [
    "# Pipeline para variáveis booleanas\n",
    "bool_transformer = Pipeline(steps=[\n",
    "    ('imputer', SimpleImputer(strategy='most_frequent'))\n",
    "])"
   ]
  },
  {
   "cell_type": "code",
   "execution_count": null,
   "id": "b0d4a93d",
   "metadata": {},
   "outputs": [],
   "source": [
    "# Pipeline para variáveis categóricas\n",
    "categorical_transformer = Pipeline(steps=[\n",
    "    ('imputer', SimpleImputer(strategy='most_frequent')),\n",
    "    ('onehot', OneHotEncoder(handle_unknown='ignore'))\n",
    "])"
   ]
  },
  {
   "cell_type": "code",
   "execution_count": null,
   "id": "ab823631",
   "metadata": {},
   "outputs": [],
   "source": [
    "preprocessor = ColumnTransformer(transformers=[\n",
    "    ('num', numeric_transformer, numeric_vars),\n",
    "    ('bool', bool_transformer, bool_vars),\n",
    "    ('cat', categorical_transformer, categorical_vars)\n",
    "])"
   ]
  },
  {
   "cell_type": "code",
   "execution_count": null,
   "id": "64a499be",
   "metadata": {},
   "outputs": [],
   "source": []
  },
  {
   "cell_type": "code",
   "execution_count": null,
   "id": "f385b5cb",
   "metadata": {},
   "outputs": [],
   "source": [
    "################## Grid Search com Modelos\n",
    "from sklearn.model_selection import train_test_split, GridSearchCV\n",
    "from sklearn.pipeline import Pipeline\n",
    "from sklearn.ensemble import RandomForestRegressor, GradientBoostingRegressor\n",
    "from sklearn.svm import SVR\n",
    "import xgboost as xgb"
   ]
  },
  {
   "cell_type": "code",
   "execution_count": null,
   "id": "5cbc72fa",
   "metadata": {},
   "outputs": [],
   "source": [
    "X = df.drop(columns=[target])\n",
    "y = df[target]"
   ]
  },
  {
   "cell_type": "code",
   "execution_count": null,
   "id": "6e778ab5",
   "metadata": {},
   "outputs": [],
   "source": [
    "X_train, X_test, y_train, y_test = train_test_split(\n",
    "    X, y, test_size=0.2, random_state=random_state, shuffle=True)"
   ]
  },
  {
   "cell_type": "code",
   "execution_count": null,
   "id": "b297f93d",
   "metadata": {},
   "outputs": [],
   "source": [
    "# Pipeline com pré-processador (definido anteriormente) e regressor placeholder\n",
    "pipeline = Pipeline(steps=[\n",
    "    ('preprocessor', preprocessor),\n",
    "    ('regressor', RandomForestRegressor(random_state=random_state))\n",
    "])"
   ]
  },
  {
   "cell_type": "code",
   "execution_count": null,
   "id": "c7f27b32",
   "metadata": {},
   "outputs": [],
   "source": [
    "# Parâmetros para Grid Search incluindo XGBoost\n",
    "param_grid = [\n",
    "    {\n",
    "        'regressor': [RandomForestRegressor(random_state=random_state)],\n",
    "        'regressor__n_estimators': [100, 200],\n",
    "        'regressor__max_depth': [None, 5, 10]\n",
    "    },\n",
    "    {\n",
    "        'regressor': [GradientBoostingRegressor(random_state=random_state)],\n",
    "        'regressor__learning_rate': [0.1, 0.05],\n",
    "        'regressor__n_estimators': [100, 200]\n",
    "    },\n",
    "    {\n",
    "        'regressor': [SVR()],\n",
    "        'regressor__C': [0.1, 1, 10],\n",
    "        'regressor__kernel': ['linear', 'rbf']\n",
    "    },\n",
    "    {\n",
    "        'regressor': [xgb.XGBRegressor(objective='reg:squarederror', random_state=random_state, n_jobs=-1)],\n",
    "        'regressor__n_estimators': [100, 200],\n",
    "        'regressor__max_depth': [3, 5, 7],\n",
    "        'regressor__learning_rate': [0.1, 0.05],\n",
    "        'regressor__subsample': [0.8, 1],\n",
    "        'regressor__colsample_bytree': [0.8, 1]\n",
    "    }\n",
    "]"
   ]
  },
  {
   "cell_type": "code",
   "execution_count": null,
   "id": "c7d888ec",
   "metadata": {},
   "outputs": [],
   "source": [
    "# Criar o GridSearchCV com validação cruzada\n",
    "grid_search = GridSearchCV(\n",
    "    pipeline,\n",
    "    param_grid,\n",
    "    cv=5,\n",
    "    scoring='neg_mean_absolute_error',\n",
    "    n_jobs=-1,\n",
    "    verbose=2,\n",
    "    refit=True\n",
    ")"
   ]
  },
  {
   "cell_type": "code",
   "execution_count": null,
   "id": "cbb276dd",
   "metadata": {},
   "outputs": [],
   "source": [
    "## fit\n",
    "grid_search.fit(X_train, y_train)"
   ]
  },
  {
   "cell_type": "code",
   "execution_count": null,
   "id": "3db4a59a",
   "metadata": {},
   "outputs": [],
   "source": [
    "## achando o melhor modelo\n",
    "best_model = grid_search.best_estimator_\n",
    "y_pred = best_model.predict(X_test)"
   ]
  },
  {
   "cell_type": "code",
   "execution_count": null,
   "id": "871d1a0e",
   "metadata": {},
   "outputs": [],
   "source": []
  },
  {
   "cell_type": "code",
   "execution_count": null,
   "id": "b0505c40",
   "metadata": {
    "lines_to_next_cell": 2
   },
   "outputs": [],
   "source": [
    "################## Métricas de validação\n",
    "from sklearn.metrics import mean_absolute_error, r2_score, mean_squared_error"
   ]
  },
  {
   "cell_type": "code",
   "execution_count": null,
   "id": "776c46a3",
   "metadata": {},
   "outputs": [],
   "source": [
    "mae = mean_absolute_error(y_test, y_pred)\n",
    "mse = mean_squared_error(y_test, y_pred)\n",
    "rmse = np.sqrt(mse)\n",
    "r2 = r2_score(y_test, y_pred)"
   ]
  },
  {
   "cell_type": "code",
   "execution_count": null,
   "id": "bde50cc7",
   "metadata": {},
   "outputs": [],
   "source": [
    "print(f\"MAE: {mae:.2f}\")\n",
    "print(f\"RMSE: {rmse:.2f}\")\n",
    "print(f\"R²: {r2:.2f}\")"
   ]
  },
  {
   "cell_type": "code",
   "execution_count": null,
   "id": "b64f2b74",
   "metadata": {},
   "outputs": [],
   "source": [
    "print(\"Melhores parâmetros:\", grid_search.best_params_)"
   ]
  },
  {
   "cell_type": "markdown",
   "id": "c24030e5",
   "metadata": {},
   "source": [
    "# Cross-validation\n",
    "from sklearn.model_selection import cross_val_score\n",
    "\n",
    "scoring = {\n",
    "    'MAE': 'neg_mean_absolute_error',\n",
    "    'RMSE': 'neg_root_mean_squared_error',\n",
    "    'R2': 'r2'\n",
    "}\n",
    "\n",
    "cv_results = cross_val_score(\n",
    "    best_model, X, y,\n",
    "    cv=5,\n",
    "    scoring=scoring,\n",
    "    n_jobs=-1\n",
    ")\n",
    "\n",
    "print(f\"MAE médio: {-cv_results['test_MAE'].mean():.3f}\")\n",
    "print(f\"RMSE médio: {-cv_results['test_RMSE'].mean():.3f}\")\n",
    "print(f\"R² médio: {cv_results['test_R2'].mean():.3f}\")"
   ]
  },
  {
   "cell_type": "code",
   "execution_count": null,
   "id": "c2113ff8",
   "metadata": {},
   "outputs": [],
   "source": [
    "from sklearn.model_selection import cross_validate"
   ]
  },
  {
   "cell_type": "code",
   "execution_count": null,
   "id": "7c020d0a",
   "metadata": {},
   "outputs": [],
   "source": [
    "scoring = {\n",
    "    'MAE': 'neg_mean_absolute_error',\n",
    "    'RMSE': 'neg_root_mean_squared_error',\n",
    "    'R2': 'r2'\n",
    "}"
   ]
  },
  {
   "cell_type": "code",
   "execution_count": null,
   "id": "e4ca79d2",
   "metadata": {},
   "outputs": [],
   "source": [
    "cv_results = cross_validate(\n",
    "    best_model, X, y,\n",
    "    cv=5,\n",
    "    scoring=scoring,\n",
    "    n_jobs=-1\n",
    ")"
   ]
  },
  {
   "cell_type": "code",
   "execution_count": null,
   "id": "3960acda",
   "metadata": {
    "lines_to_next_cell": 2
   },
   "outputs": [],
   "source": [
    "print(f\"MAE médio: {-cv_results['test_MAE'].mean():.3f} ± {cv_results['test_MAE'].std():.3f}\")\n",
    "print(f\"RMSE médio: {-cv_results['test_RMSE'].mean():.3f} ± {cv_results['test_RMSE'].std():.3f}\")\n",
    "print(f\"R² médio: {cv_results['test_R2'].mean():.3f} ± {cv_results['test_R2'].std():.3f}\")"
   ]
  },
  {
   "cell_type": "code",
   "execution_count": null,
   "id": "78702197",
   "metadata": {},
   "outputs": [],
   "source": [
    "################## Validação Final\n",
    "# Importância das features (para modelos tree-based)\n",
    "import matplotlib.pyplot as plt\n",
    "import seaborn as sns"
   ]
  },
  {
   "cell_type": "code",
   "execution_count": null,
   "id": "4259a91f",
   "metadata": {},
   "outputs": [],
   "source": [
    "predictions = y_pred"
   ]
  },
  {
   "cell_type": "code",
   "execution_count": null,
   "id": "f639bc27",
   "metadata": {},
   "outputs": [],
   "source": [
    "# 1. Importância das features (para modelos tree-based)\n",
    "regressor = best_model.named_steps['regressor']"
   ]
  },
  {
   "cell_type": "code",
   "execution_count": null,
   "id": "0d0d8db1",
   "metadata": {},
   "outputs": [],
   "source": [
    "if hasattr(regressor, 'feature_importances_'):\n",
    "    try:\n",
    "        feature_names = best_model.named_steps['preprocessor'].get_feature_names_out()\n",
    "    except AttributeError:\n",
    "        feature_names = best_model.named_steps['preprocessor'].get_feature_names()\n",
    "\n",
    "    importances = regressor.feature_importances_\n",
    "\n",
    "    # Criar gráfico horizontal\n",
    "    plt.figure(figsize=(10, 8))\n",
    "    sns.barplot(x=importances, y=feature_names, palette='viridis')\n",
    "    plt.title('Importância das Features')\n",
    "    plt.xlabel('Importância')\n",
    "    plt.ylabel('Feature')\n",
    "    plt.tight_layout()\n",
    "    plt.show()\n",
    "else:\n",
    "    print(\"O modelo não possui atributo 'feature_importances_' para mostrar importância das features.\")"
   ]
  },
  {
   "cell_type": "code",
   "execution_count": null,
   "id": "6890a926",
   "metadata": {},
   "outputs": [],
   "source": [
    "# 2. Gráfico de resíduos\n",
    "residuals = y_test - predictions"
   ]
  },
  {
   "cell_type": "code",
   "execution_count": null,
   "id": "626f14a9",
   "metadata": {},
   "outputs": [],
   "source": [
    "plt.figure(figsize=(8, 6))\n",
    "sns.scatterplot(x=predictions, y=residuals)\n",
    "plt.axhline(0, color='red', linestyle='--')\n",
    "plt.title('Análise de Resíduos')\n",
    "plt.xlabel('Valores Preditos')\n",
    "plt.ylabel('Resíduos (Erro)')\n",
    "plt.tight_layout()\n",
    "plt.show()"
   ]
  },
  {
   "cell_type": "code",
   "execution_count": null,
   "id": "4d9aeee7",
   "metadata": {},
   "outputs": [],
   "source": []
  }
 ],
 "metadata": {
  "jupytext": {
   "cell_metadata_filter": "-all",
   "main_language": "python",
   "notebook_metadata_filter": "-all"
  }
 },
 "nbformat": 4,
 "nbformat_minor": 5
}
